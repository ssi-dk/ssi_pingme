{
 "cells": [
  {
   "cell_type": "code",
   "execution_count": null,
   "metadata": {},
   "outputs": [],
   "source": [
    "# |default_exp services\n",
    "# You need this at the top of every notebook you want turned into a module, the name your provide will determine the module name"
   ]
  },
  {
   "cell_type": "code",
   "execution_count": null,
   "metadata": {},
   "outputs": [],
   "source": [
    "# |hide\n",
    "# See above? this hides these blocks, meaning these blocks aren't in the module and aren't in the documentation\n",
    "import nbdev\n",
    "from nbdev.showdoc import *  # ignore this Pylance warning in favor of following nbdev docs"
   ]
  },
  {
   "cell_type": "code",
   "execution_count": null,
   "metadata": {},
   "outputs": [],
   "source": [
    "# |export\n",
    "from pingme.core import settings, logger\n",
    "from pingme.pingme_class import Card, PingMe\n",
    "from fastcore.script import (\n",
    "    call_parse,\n",
    ")  # for @call_parse, https://fastcore.fast.ai/script"
   ]
  },
  {
   "cell_type": "markdown",
   "metadata": {},
   "source": [
    "Service layer, calls existing functionality from the class and makes an individual function for each interface that will be exposed through the API."
   ]
  },
  {
   "cell_type": "code",
   "execution_count": null,
   "metadata": {},
   "outputs": [],
   "source": [
    "# |export\n",
    "class NotificationService:\n",
    "    @staticmethod\n",
    "    def send_default_card_to_webhook():\n",
    "        # Handles all logic for processing notifications\n",
    "        logger.info(\"Sending default webhook card\")\n",
    "        card = Card.model_validate(\n",
    "            {\n",
    "                \"name\": \"default\",\n",
    "                \"context\": {\"title\": \"Default Title\", \"text\": \"Test Text\"},\n",
    "            }\n",
    "        )\n",
    "        notification = PingMe(\n",
    "            card,\n",
    "            config_file=settings.config_file,\n",
    "        )\n",
    "        response = notification.send_webhook()\n",
    "        # Handle response safely\n",
    "        try:\n",
    "            response_data = response.json()\n",
    "        except ValueError:\n",
    "            # Return text content if not JSON\n",
    "            response_data = {\n",
    "                \"content\": response.text if response.text else \"No content\"\n",
    "            }\n",
    "        return {\"status_code\": response.status_code, \"response\": response_data}\n",
    "\n",
    "    @staticmethod\n",
    "    def send_simple_card_to_webhook(title: str, text: str):\n",
    "        # Handles all logic for processing notifications\n",
    "        logger.info(\"Sending simple webhook card\")\n",
    "        card = Card.model_validate(\n",
    "            {\n",
    "                \"name\": \"default\",\n",
    "                \"context\": {\"title\": title, \"text\": text},\n",
    "            }\n",
    "        )\n",
    "        notification = PingMe(\n",
    "            card,\n",
    "            config_file=settings.config_file,\n",
    "        )\n",
    "        response = notification.send_webhook()\n",
    "        # Handle response safely\n",
    "        try:\n",
    "            response_data = response.json()\n",
    "        except ValueError:\n",
    "            # Return text content if not JSON\n",
    "            response_data = {\n",
    "                \"content\": response.text if response.text else \"No content\"\n",
    "            }\n",
    "        return {\"status_code\": response.status_code, \"response\": response_data}\n",
    "\n",
    "    @staticmethod\n",
    "    def send_card_to_webhook(card: Card):\n",
    "        # Handles all logic for processing notifications\n",
    "        logger.info(\"Sending webhook card\")\n",
    "        notification = PingMe(\n",
    "            card,\n",
    "            config_file=settings.config_file,\n",
    "        )\n",
    "        response = notification.send_webhook()\n",
    "        # Handle response safely\n",
    "        try:\n",
    "            response_data = response.json()\n",
    "        except ValueError:\n",
    "            # Return text content if not JSON\n",
    "            response_data = {\n",
    "                \"content\": response.text if response.text else \"No content\"\n",
    "            }\n",
    "        return {\"status_code\": response.status_code, \"response\": response_data}"
   ]
  },
  {
   "cell_type": "code",
   "execution_count": null,
   "metadata": {},
   "outputs": [],
   "source": [
    "card = Card.model_validate(\n",
    "    {\n",
    "        \"name\": \"default\",\n",
    "        \"context\": {\"title\": \"Test Title\", \"text\": \"Test Text\"},\n",
    "    }\n",
    ")\n",
    "notification = PingMe(\n",
    "    card,\n",
    "    config_file=settings.config_file,\n",
    ")\n",
    "response = notification.send_webhook()"
   ]
  },
  {
   "cell_type": "code",
   "execution_count": null,
   "metadata": {},
   "outputs": [],
   "source": [
    "# |export\n",
    "# Make a CLI function using `call_parse` to handle arguments\n",
    "@call_parse\n",
    "def pingme_send_default_card_to_webhook(\n",
    "    config_file: str = None,\n",
    "):\n",
    "    \"\"\"\n",
    "    Send a card to the webhook with default values\n",
    "\n",
    "    Args:\n",
    "    - config_file: str = None: Path to the config file, none uses default\n",
    "    \"\"\"\n",
    "    # Override settings if provided\n",
    "    if config_file:\n",
    "        settings.config_file = config_file\n",
    "    NotificationService.send_default_card_to_webhook()"
   ]
  },
  {
   "cell_type": "code",
   "execution_count": null,
   "metadata": {},
   "outputs": [],
   "source": [
    "# |export\n",
    "# Make a CLI function using `call_parse` to handle arguments\n",
    "@call_parse\n",
    "def pingme_send_simple_card_to_webhook(\n",
    "    title: str,\n",
    "    text: str,\n",
    "    config_file: str = None,\n",
    "):\n",
    "    \"\"\"\n",
    "    Send a card to the webhook with title and text\n",
    "\n",
    "    Args:\n",
    "    - title: str: Title of the card\n",
    "    - text: str: Text of the card\n",
    "    - config_file: str = None: Path to the config file, none uses default\n",
    "    \"\"\"\n",
    "    # Override settings if provided\n",
    "    if config_file:\n",
    "        settings.config_file = config_file\n",
    "    NotificationService.send_simple_card_to_webhook(title, text)"
   ]
  },
  {
   "cell_type": "code",
   "execution_count": null,
   "metadata": {},
   "outputs": [],
   "source": [
    "# |export\n",
    "# Make a CLI function using `call_parse` to handle arguments\n",
    "@call_parse\n",
    "def pingme_send_card_to_webhook(\n",
    "    card: Card,\n",
    "    config_file: str = None,\n",
    "):\n",
    "    \"\"\"\n",
    "    Send a card to the webhook\n",
    "\n",
    "    Args:\n",
    "    - card: Card: Card object to send\n",
    "    - config_file: str = None: Path to the config file, none uses default\n",
    "    \"\"\"\n",
    "    # Override settings if provided\n",
    "    if config_file:\n",
    "        settings.config_file = config_file\n",
    "    NotificationService.send_card_to_webhook(card)"
   ]
  },
  {
   "cell_type": "code",
   "execution_count": null,
   "metadata": {},
   "outputs": [],
   "source": [
    "# | hide\n",
    "from nbdev import nbdev_export\n",
    "\n",
    "nbdev_export()"
   ]
  }
 ],
 "metadata": {
  "kernelspec": {
   "display_name": "python3",
   "language": "python",
   "name": "python3"
  }
 },
 "nbformat": 4,
 "nbformat_minor": 2
}
