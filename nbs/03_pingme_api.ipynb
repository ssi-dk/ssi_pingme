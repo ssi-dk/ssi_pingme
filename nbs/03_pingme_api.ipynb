{
 "cells": [
  {
   "cell_type": "code",
   "execution_count": null,
   "id": "806486d9-2cfb-4725-8074-e4b7b8580aea",
   "metadata": {},
   "outputs": [],
   "source": [
    "# | default_exp api"
   ]
  },
  {
   "cell_type": "markdown",
   "id": "f8c45dde",
   "metadata": {},
   "source": [
    "# pingme API\n",
    "The pingme API is built on top of the pingme.services layer. The API is intended to be a 1-to-1 mapping of services function as a REST API call. That means to implement into this library you should first define your interface into pingme.services then, once complete it can be added here as a call."
   ]
  },
  {
   "cell_type": "code",
   "execution_count": null,
   "id": "202343d6-3709-414d-84f6-a5e5483fabb9",
   "metadata": {},
   "outputs": [],
   "source": [
    "# |hide\n",
    "import nbdev\n",
    "from nbdev.showdoc import *"
   ]
  },
  {
   "cell_type": "markdown",
   "id": "c17212b7",
   "metadata": {},
   "source": [
    "# Included Libraries"
   ]
  },
  {
   "cell_type": "code",
   "execution_count": null,
   "id": "e3a86a53-97e6-4394-80bb-bbc935bba5ba",
   "metadata": {},
   "outputs": [],
   "source": [
    "# |export\n",
    "import uvicorn  # Server for hosting the API, ref: https://www.uvicorn.org/\n",
    "from fastapi import FastAPI  # library for creating the API\n",
    "from fastapi.testclient import TestClient  # test client for notebook to test API calls\n",
    "from fastapi import HTTPException  # for raising exceptions\n",
    "\n",
    "from pingme.core import settings\n",
    "from pingme import core\n",
    "from pingme.pingme_class import Card\n",
    "from pingme.services import NotificationService\n",
    "\n",
    "from fastcore.script import (\n",
    "    call_parse,  # To create a CLI from a function\n",
    ")\n",
    "\n",
    "import json  # for parsing json data"
   ]
  },
  {
   "cell_type": "markdown",
   "id": "8fbbe97b",
   "metadata": {},
   "source": [
    "Launch the app to run things, using default params which includes /docs for swagger ui"
   ]
  },
  {
   "cell_type": "code",
   "execution_count": null,
   "id": "4c6fe9ae",
   "metadata": {},
   "outputs": [],
   "source": [
    "# |export\n",
    "app = FastAPI()"
   ]
  },
  {
   "cell_type": "code",
   "execution_count": null,
   "id": "71c47b25",
   "metadata": {},
   "outputs": [],
   "source": [
    "# | export\n",
    "@app.post(\"/webhook/default\")\n",
    "def webhook_card_default():\n",
    "    \"\"\"\n",
    "    Send a default card to the webhook, intention is strictly for testing and showcasing.\n",
    "    \"\"\"\n",
    "    try:\n",
    "        return NotificationService.send_default_card_to_webhook()\n",
    "    except Exception as e:\n",
    "        raise HTTPException(status_code=500, detail=str(e))"
   ]
  },
  {
   "cell_type": "code",
   "execution_count": null,
   "id": "f275012b",
   "metadata": {},
   "outputs": [],
   "source": [
    "client = TestClient(app)\n",
    "response = client.post(\"/webhook/default\")\n",
    "print(response, json.dumps(response.json(), indent=2))"
   ]
  },
  {
   "cell_type": "code",
   "execution_count": null,
   "id": "0050da11",
   "metadata": {},
   "outputs": [],
   "source": [
    "# | export\n",
    "@app.post(\"/webhook/simple\")\n",
    "def webhook_card_simple(title: str, text: str):\n",
    "    \"\"\"\n",
    "    Send a simple card to the webhook, should be used for most general use cases of sending a message.\n",
    "\n",
    "    Args:\n",
    "    title: Title of the card\n",
    "    text: Text of the card\n",
    "    \"\"\"\n",
    "    try:\n",
    "        return NotificationService.send_simple_card_to_webhook(title, text)\n",
    "    except Exception as e:\n",
    "        raise HTTPException(status_code=500, detail=str(e))"
   ]
  },
  {
   "cell_type": "code",
   "execution_count": null,
   "id": "788cb249",
   "metadata": {},
   "outputs": [],
   "source": [
    "client = TestClient(app)\n",
    "response = client.post(\"/webhook/simple?title=TestingTitle&text=TestText\")\n",
    "print(response, json.dumps(response.json(), indent=2))"
   ]
  },
  {
   "cell_type": "code",
   "execution_count": null,
   "id": "b82ba174",
   "metadata": {},
   "outputs": [],
   "source": [
    "# | export\n",
    "@app.post(\"/webhook/card/\")\n",
    "def webhook_card(card: Card):\n",
    "    \"\"\"\n",
    "    Send a card to the webhook, card defines a card thats installed into the config.yaml. Advanced usage which may not get used.\n",
    "\n",
    "    Args:\n",
    "    card: Card object\n",
    "    \"\"\"\n",
    "    try:\n",
    "        return NotificationService.send_card_to_webhook(card)\n",
    "    except Exception as e:\n",
    "        raise HTTPException(status_code=500, detail=str(e))"
   ]
  },
  {
   "cell_type": "code",
   "execution_count": null,
   "id": "213f7e63",
   "metadata": {},
   "outputs": [],
   "source": [
    "# Test wont work for runner with default config\n",
    "client = TestClient(app)\n",
    "response = client.post(\n",
    "    \"/webhook/card\",\n",
    "    json={\n",
    "        \"name\": \"default\",\n",
    "        \"context\": {\"title\": \"titlevalue\", \"text\": \"textvalue\"},\n",
    "    },\n",
    ")\n",
    "print(response, json.dumps(response.json(), indent=2))"
   ]
  },
  {
   "cell_type": "code",
   "execution_count": null,
   "id": "f5111a74-38ff-4412-bec6-c01165234b88",
   "metadata": {},
   "outputs": [],
   "source": [
    "# |export\n",
    "@app.get(path=\"/\")\n",
    "@app.get(\"/help\", tags=[\"help\"])\n",
    "async def help():\n",
    "    \"\"\"\n",
    "    Information on how to use API to users, when they hit the root URL. Ensure when you add new endpoints to update this function, check /docs for info on endpoints.\n",
    "    \"\"\"\n",
    "    return {\"msg\": \"please check /docs for more information on how to use the API\"}"
   ]
  },
  {
   "cell_type": "code",
   "execution_count": null,
   "id": "820f5070",
   "metadata": {},
   "outputs": [],
   "source": [
    "# Test\n",
    "client = TestClient(app)\n",
    "response = client.get(\"/\")\n",
    "print(response.status_code, json.dumps(response.json(), indent=2))"
   ]
  },
  {
   "cell_type": "code",
   "execution_count": null,
   "id": "b9c47e46-12b9-4f7a-8f39-ef27c15b6612",
   "metadata": {},
   "outputs": [],
   "source": [
    "# |export\n",
    "@call_parse\n",
    "def webservice(\n",
    "    host: str = \"127.0.0.1\",  # Host to run the server on\n",
    "    port: int = 5000,  # Port to run the server on\"\n",
    "    config_file: str = None,  # Path to config file\"\n",
    "):\n",
    "    \"\"\"Start the PingMe API server.\"\"\"\n",
    "    # Override settings if provided\n",
    "    if config_file is not None:\n",
    "        settings.config_file = config_file\n",
    "\n",
    "    # Run using module path instead of app instance to ensure updated config\n",
    "    uvicorn.run(\"pingme.api:app\", host=host, port=port, reload=core.DEV_MODE)"
   ]
  },
  {
   "cell_type": "code",
   "execution_count": null,
   "id": "f4b9ab41",
   "metadata": {},
   "outputs": [],
   "source": [
    "# | hide\n",
    "from nbdev import nbdev_export\n",
    "\n",
    "nbdev_export()"
   ]
  }
 ],
 "metadata": {
  "kernelspec": {
   "display_name": "python3",
   "language": "python",
   "name": "python3"
  }
 },
 "nbformat": 4,
 "nbformat_minor": 5
}
