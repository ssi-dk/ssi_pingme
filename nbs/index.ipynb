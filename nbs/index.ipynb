{
 "cells": [
  {
   "cell_type": "code",
   "execution_count": null,
   "metadata": {},
   "outputs": [],
   "source": [
    "# | hide\n",
    "from pingme.core import *"
   ]
  },
  {
   "cell_type": "markdown",
   "metadata": {},
   "source": [
    "# ssi_pingme\n",
    "\n",
    "> This program is currently codded up to provide a small service for consistent API calls to a webhook. In short it sends a card to a messaging service for notifications."
   ]
  },
  {
   "cell_type": "markdown",
   "metadata": {},
   "source": [
    "# Dev mode"
   ]
  },
  {
   "cell_type": "markdown",
   "metadata": {},
   "source": [
    "```sh\n",
    "#Create the dev environment in ./.venv then activate it so you're working in it\n",
    "conda env create -p ./.venv --file conda.dev.env.yaml\n",
    "conda activate ./.venv\n",
    "#Need to add kernel to jupyterhub for processing on server, ipykernel is part of conda.dev.env.yaml\n",
    "python -m ipykernel install --user --name=Pingme\n",
    "#After this change your kernel to Pingme via JupyterHub (top right of a notebook)\n",
    "\n",
    "#Now we need to create the repo locally\n",
    "nbdev_export\n",
    "\n",
    "#with it created we can install the dev env\n",
    "pip install -e '.[dev]'\n",
    "#optional test to ensure it worked\n",
    "core_hello_world test #to test everything works\n",
    "\n",
    "#now we can do nbdev_prepare\n",
    "nbdev_prepare\n",
    "```"
   ]
  },
  {
   "cell_type": "markdown",
   "metadata": {},
   "source": [
    "If releasing to conda be sure to add the channel povilasmat to your conda for envyaml"
   ]
  },
  {
   "cell_type": "markdown",
   "metadata": {},
   "source": [
    "## Install"
   ]
  },
  {
   "cell_type": "markdown",
   "metadata": {},
   "source": [
    "```sh\n",
    "pip install ssi_pingme\n",
    "```"
   ]
  },
  {
   "cell_type": "markdown",
   "metadata": {},
   "source": [
    "## How to use"
   ]
  },
  {
   "cell_type": "markdown",
   "metadata": {},
   "source": [
    "To run as a webservice, be sure the config_file has the webhook param!"
   ]
  },
  {
   "cell_type": "code",
   "execution_count": null,
   "metadata": {},
   "outputs": [
    {
     "name": "stdout",
     "output_type": "stream",
     "text": [
      "zsh:1: command not found: start_pingme_webservice\n"
     ]
    }
   ],
   "source": [
    "!pingme_start_webservice -h"
   ]
  },
  {
   "cell_type": "code",
   "execution_count": null,
   "metadata": {},
   "outputs": [
    {
     "name": "stdout",
     "output_type": "stream",
     "text": [
      "usage: pingme_webhook_default [-h] [--config_file CONFIG_FILE]\n",
      "\n",
      "options:\n",
      "  -h, --help                 show this help message and exit\n",
      "  --config_file CONFIG_FILE\n"
     ]
    }
   ],
   "source": [
    "!pingme_webhook_default -h"
   ]
  },
  {
   "cell_type": "code",
   "execution_count": null,
   "metadata": {},
   "outputs": [
    {
     "name": "stdout",
     "output_type": "stream",
     "text": [
      "usage: pingme_webhook_simple [-h] [--config_file CONFIG_FILE] title text\n",
      "\n",
      "positional arguments:\n",
      "  title\n",
      "  text\n",
      "\n",
      "options:\n",
      "  -h, --help                 show this help message and exit\n",
      "  --config_file CONFIG_FILE\n"
     ]
    }
   ],
   "source": [
    "!pingme_webhook_simple -h"
   ]
  },
  {
   "cell_type": "code",
   "execution_count": null,
   "metadata": {},
   "outputs": [
    {
     "name": "stdout",
     "output_type": "stream",
     "text": [
      "usage: pingme_webhook_card [-h] [--config_file CONFIG_FILE] card\n",
      "\n",
      "positional arguments:\n",
      "  card\n",
      "\n",
      "options:\n",
      "  -h, --help                 show this help message and exit\n",
      "  --config_file CONFIG_FILE\n"
     ]
    }
   ],
   "source": [
    "!pingme_webhook_card -h"
   ]
  }
 ],
 "metadata": {
  "kernelspec": {
   "display_name": "python3",
   "language": "python",
   "name": "python3"
  }
 },
 "nbformat": 4,
 "nbformat_minor": 4
}
